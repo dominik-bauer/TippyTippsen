{
 "cells": [
  {
   "cell_type": "code",
   "execution_count": 1,
   "metadata": {},
   "outputs": [
    {
     "name": "stdout",
     "output_type": "stream",
     "text": [
      "200\n",
      "{'Cache-Control': 'no-cache', 'Pragma': 'no-cache', 'Content-Type': 'application/json; charset=utf-8', 'Expires': '-1', 'Server': 'Microsoft-IIS/10.0', 'X-AspNet-Version': '4.0.30319', 'X-Powered-By': 'ASP.NET', 'Date': 'Thu, 25 Aug 2022 21:06:24 GMT', 'Content-Length': '4237'}\n",
      "utf-8\n",
      "{'1. FC Heidenheim 1846': 199,\n",
      " '1. FC Kaiserslautern': 76,\n",
      " '1. FC Köln': 65,\n",
      " '1. FC Magdeburg': 78,\n",
      " '1. FC Nürnberg': 79,\n",
      " '1. FC Saarbrücken': 417,\n",
      " '1. FC Union Berlin': 80,\n",
      " '1. FSV Mainz 05': 81,\n",
      " 'Arminia Bielefeld': 83,\n",
      " 'Bayer Leverkusen': 6,\n",
      " 'Borussia Dortmund': 7,\n",
      " 'Borussia Dortmund II': 187,\n",
      " 'Borussia Mönchengladbach': 87,\n",
      " 'Eintracht Braunschweig': 74,\n",
      " 'Eintracht Frankfurt': 91,\n",
      " 'Erzgebirge Aue': 66,\n",
      " 'FC Augsburg': 95,\n",
      " 'FC Bayern München': 40,\n",
      " 'FC Hansa Rostock': 102,\n",
      " 'FC Ingolstadt 04': 171,\n",
      " 'FC Schalke 04': 9,\n",
      " 'FC St. Pauli': 98,\n",
      " 'FC Viktoria Köln': 2199,\n",
      " 'FSV Zwickau': 1979,\n",
      " 'Fortuna Düsseldorf': 185,\n",
      " 'Hallescher FC': 208,\n",
      " 'Hamburger SV': 100,\n",
      " 'Hannover 96': 55,\n",
      " 'Hertha BSC': 54,\n",
      " 'Holstein Kiel': 104,\n",
      " 'Jahn Regensburg': 181,\n",
      " 'Karlsruher SC': 105,\n",
      " 'MSV Duisburg': 107,\n",
      " 'RB Leipzig': 1635,\n",
      " 'Rot-Weiss Essen': 109,\n",
      " 'SC Freiburg': 112,\n",
      " 'SC Freiburg II': 2397,\n",
      " 'SC Paderborn 07': 31,\n",
      " 'SC Verl': 114,\n",
      " 'SG Dynamo Dresden': 177,\n",
      " 'SV Darmstadt 98': 118,\n",
      " 'SV Elversberg 07': 198,\n",
      " 'SV Meppen': 599,\n",
      " 'SV Sandhausen': 119,\n",
      " 'SV Waldhof Mannheim': 553,\n",
      " 'SV Wehen Wiesbaden': 174,\n",
      " 'SpVgg Greuther Fürth': 115,\n",
      " 'SpVgg Oberfranken Bayreuth': 2953,\n",
      " 'TSG 1899 Hoffenheim': 175,\n",
      " 'TSV 1860 München': 125,\n",
      " 'VfB Oldenburg': 600,\n",
      " 'VfB Stuttgart': 16,\n",
      " 'VfL Bochum': 129,\n",
      " 'VfL Osnabrück': 36,\n",
      " 'VfL Wolfsburg': 131,\n",
      " 'Werder Bremen': 134}\n",
      "{6: 'Bayer Leverkusen',\n",
      " 7: 'Borussia Dortmund',\n",
      " 9: 'FC Schalke 04',\n",
      " 16: 'VfB Stuttgart',\n",
      " 31: 'SC Paderborn 07',\n",
      " 36: 'VfL Osnabrück',\n",
      " 40: 'FC Bayern München',\n",
      " 54: 'Hertha BSC',\n",
      " 55: 'Hannover 96',\n",
      " 65: '1. FC Köln',\n",
      " 66: 'Erzgebirge Aue',\n",
      " 74: 'Eintracht Braunschweig',\n",
      " 76: '1. FC Kaiserslautern',\n",
      " 78: '1. FC Magdeburg',\n",
      " 79: '1. FC Nürnberg',\n",
      " 80: '1. FC Union Berlin',\n",
      " 81: '1. FSV Mainz 05',\n",
      " 83: 'Arminia Bielefeld',\n",
      " 87: 'Borussia Mönchengladbach',\n",
      " 91: 'Eintracht Frankfurt',\n",
      " 95: 'FC Augsburg',\n",
      " 98: 'FC St. Pauli',\n",
      " 100: 'Hamburger SV',\n",
      " 102: 'FC Hansa Rostock',\n",
      " 104: 'Holstein Kiel',\n",
      " 105: 'Karlsruher SC',\n",
      " 107: 'MSV Duisburg',\n",
      " 109: 'Rot-Weiss Essen',\n",
      " 112: 'SC Freiburg',\n",
      " 114: 'SC Verl',\n",
      " 115: 'SpVgg Greuther Fürth',\n",
      " 118: 'SV Darmstadt 98',\n",
      " 119: 'SV Sandhausen',\n",
      " 125: 'TSV 1860 München',\n",
      " 129: 'VfL Bochum',\n",
      " 131: 'VfL Wolfsburg',\n",
      " 134: 'Werder Bremen',\n",
      " 171: 'FC Ingolstadt 04',\n",
      " 174: 'SV Wehen Wiesbaden',\n",
      " 175: 'TSG 1899 Hoffenheim',\n",
      " 177: 'SG Dynamo Dresden',\n",
      " 181: 'Jahn Regensburg',\n",
      " 185: 'Fortuna Düsseldorf',\n",
      " 187: 'Borussia Dortmund II',\n",
      " 198: 'SV Elversberg 07',\n",
      " 199: '1. FC Heidenheim 1846',\n",
      " 208: 'Hallescher FC',\n",
      " 417: '1. FC Saarbrücken',\n",
      " 553: 'SV Waldhof Mannheim',\n",
      " 599: 'SV Meppen',\n",
      " 600: 'VfB Oldenburg',\n",
      " 1635: 'RB Leipzig',\n",
      " 1979: 'FSV Zwickau',\n",
      " 2199: 'FC Viktoria Köln',\n",
      " 2397: 'SC Freiburg II',\n",
      " 2953: 'SpVgg Oberfranken Bayreuth'}\n"
     ]
    }
   ],
   "source": [
    "import requests\n",
    "from dataclasses import dataclass\n",
    "from pprint import pprint\n",
    "\n",
    "r = requests.get('https://www.openligadb.de/api/getbltable/bl1/2022/')\n",
    "\n",
    "print(r.status_code)\n",
    "print(r.headers)\n",
    "print(r.encoding)\n",
    "\n",
    "teams = {}\n",
    "id2name = {}\n",
    "name2id={}\n",
    "\n",
    "for league in [\"bl1\", \"bl2\", \"bl3\"]:\n",
    "    for item in requests.get(f\"https://www.openligadb.de/api/getavailableteams/{league}/2022/\").json():\n",
    "        id = item.pop(\"TeamId\")\n",
    "        item[\"LeagueShortcut\"] = league\n",
    "        teams[id] = item\n",
    "        id2name[id] = item[\"TeamName\"]\n",
    "        name2id[item[\"TeamName\"]] = id\n",
    "\n",
    "pprint(name2id)\n",
    "pprint(id2name)\n",
    "\n"
   ]
  },
  {
   "cell_type": "code",
   "execution_count": 5,
   "metadata": {},
   "outputs": [
    {
     "name": "stdout",
     "output_type": "stream",
     "text": [
      "<Response [200]>\n"
     ]
    },
    {
     "name": "stderr",
     "output_type": "stream",
     "text": [
      "c:\\Users\\Johnsenheimer\\.conda\\envs\\tippytippsen\\lib\\site-packages\\urllib3\\connectionpool.py:1045: InsecureRequestWarning: Unverified HTTPS request is being made to host 'api.threema.ch'. Adding certificate verification is strongly advised. See: https://urllib3.readthedocs.io/en/1.26.x/advanced-usage.html#ssl-warnings\n",
      "  warnings.warn(\n"
     ]
    },
    {
     "data": {
      "text/plain": [
       "{'identity': 'UPWVXPXR',\n",
       " 'publicKey': 'HdLKDpJ5DsI68mR2fy1ehqnyPkZf/oPWt//4GdZ0n18=',\n",
       " 'featureLevel': 3,\n",
       " 'featureMask': 63,\n",
       " 'state': 0,\n",
       " 'type': 0}"
      ]
     },
     "execution_count": 5,
     "metadata": {},
     "output_type": "execute_result"
    }
   ],
   "source": [
    "x = requests.get(\"https://api.threema.ch/identity/UPWVXPXR\", verify=False)\n",
    "print(x)\n",
    "x.json()"
   ]
  }
 ],
 "metadata": {
  "kernelspec": {
   "display_name": "Python 3.10.4 ('tippytippsen')",
   "language": "python",
   "name": "python3"
  },
  "language_info": {
   "codemirror_mode": {
    "name": "ipython",
    "version": 3
   },
   "file_extension": ".py",
   "mimetype": "text/x-python",
   "name": "python",
   "nbconvert_exporter": "python",
   "pygments_lexer": "ipython3",
   "version": "3.10.4"
  },
  "orig_nbformat": 4,
  "vscode": {
   "interpreter": {
    "hash": "491b3e44481d75ea880921be5bfa577e4b0e3485a014c46350e018808da85d7a"
   }
  }
 },
 "nbformat": 4,
 "nbformat_minor": 2
}
